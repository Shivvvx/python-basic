{
  "nbformat": 4,
  "nbformat_minor": 0,
  "metadata": {
    "colab": {
      "provenance": []
    },
    "kernelspec": {
      "name": "python3",
      "display_name": "Python 3"
    },
    "language_info": {
      "name": "python"
    }
  },
  "cells": [
    {
      "cell_type": "code",
      "execution_count": null,
      "metadata": {
        "id": "lnwz_M9CbVHt"
      },
      "outputs": [],
      "source": []
    },
    {
      "cell_type": "markdown",
      "source": [
        "#Answer 1.\n",
        "- Python is a simple, easy-to-learn programming language used for many things like making websites, apps, data analysis, AI, and automation.\n",
        "Easy to read and write.\n",
        "- Works for many tasks (web, data, AI, etc.).\n",
        "- Has many built-in tools and libraries.\n",
        "- Big support community.\n",
        "- Runs on all computers.\n",
        "- Used by top companies (like Google, Netflix).\n",
        "- Great for beginners and experts.\n",
        "- Helps in trending fields like AI and machine learning."
      ],
      "metadata": {
        "id": "DE1OcbUBcAYF"
      }
    },
    {
      "cell_type": "code",
      "source": [],
      "metadata": {
        "id": "ld8Cgtj4cVfp"
      },
      "execution_count": null,
      "outputs": []
    },
    {
      "cell_type": "markdown",
      "source": [
        "#Answer 2.\n",
        "- An interpreter in Python is a program that reads and runs your Python code line by line.\n",
        "Instead of converting the whole program into machine code at once (like a compiler), the Python interpreter executes each line one at a time, which makes it easier to find and fix errors quickly."
      ],
      "metadata": {
        "id": "M8uHSXdHcgEz"
      }
    },
    {
      "cell_type": "code",
      "source": [],
      "metadata": {
        "id": "fk-BeC14cyeX"
      },
      "execution_count": null,
      "outputs": []
    },
    {
      "cell_type": "markdown",
      "source": [
        "#Answer 3.\n",
        "- Pre-defined keywords in Python are special reserved words that have specific meanings in the language. You cannot use them as variable names because they are used to define Python’s structure and rules."
      ],
      "metadata": {
        "id": "Xuj0tucQdFJZ"
      }
    },
    {
      "cell_type": "code",
      "source": [],
      "metadata": {
        "id": "gcbVHKF1dJMW"
      },
      "execution_count": null,
      "outputs": []
    },
    {
      "cell_type": "markdown",
      "source": [
        "# Answer 4.\n",
        "- No, keywords cannot be used as variable names in Python.This will give an error, because if is a keyword used for condition checking.\n",
        "- eywords are reserved for specific purposes in Python (like if, for, while, def, etc.).\n",
        "\n",
        "\n"
      ],
      "metadata": {
        "id": "eb9AUABgd6Xv"
      }
    },
    {
      "cell_type": "code",
      "source": [],
      "metadata": {
        "id": "-4q4DQTHedN7"
      },
      "execution_count": null,
      "outputs": []
    },
    {
      "cell_type": "markdown",
      "source": [
        "#Answer 5.\n",
        "- Mutability means whether a value (object) can be changed after it is created.\n",
        "Examples:\n",
        "- list\n",
        "- dict\n",
        "- set"
      ],
      "metadata": {
        "id": "Wl4_ic4KeebG"
      }
    },
    {
      "cell_type": "code",
      "source": [],
      "metadata": {
        "id": "35Tsa5_Be7Zp"
      },
      "execution_count": null,
      "outputs": []
    },
    {
      "cell_type": "markdown",
      "source": [
        "# Answer 6.\n",
        "# mutable\n",
        "- Lists are designed to store and manage data that might change.\n",
        "- They allow adding, removing, or updating elements without creating a new list.\n",
        "- This makes them flexible and good for tasks where data changes over time.\n",
        "# tuples immutable\n",
        "- Tuples are meant to be fixed collections of items.\n",
        "- Once created, you cannot change them — this makes them safer and faster.\n",
        "- Tuples are often used when you want to protect data from being changed"
      ],
      "metadata": {
        "id": "zsuJqkoLfIrT"
      }
    },
    {
      "cell_type": "code",
      "source": [],
      "metadata": {
        "id": "heV0bGUPf3vW"
      },
      "execution_count": null,
      "outputs": []
    },
    {
      "cell_type": "markdown",
      "source": [
        "#Answer7. The difference between == and is in Python:\n",
        "- =\tEqual to\tValues (Do both have the same data)\n",
        "-Use == when:\n",
        "- You want to check if two variables have the same value\n",
        "- is\tIdentity\tMemory location (Are both the same object in memory)\n",
        "- Use is when:\n",
        "- You want to check if two variables point to the same object"
      ],
      "metadata": {
        "id": "zqdjdSzQgJ4v"
      }
    },
    {
      "cell_type": "code",
      "source": [],
      "metadata": {
        "id": "qBo5q7ZEhDsC"
      },
      "execution_count": null,
      "outputs": []
    },
    {
      "cell_type": "markdown",
      "source": [
        "#Answer 8.\n",
        "- Logical operators are used to combine multiple conditions (True/False) in Python.These are used in if statements, loops, and more for decision making."
      ],
      "metadata": {
        "id": "R4LXEEYQhGsH"
      }
    },
    {
      "cell_type": "code",
      "source": [],
      "metadata": {
        "id": "WdrX5v0ihd7n"
      },
      "execution_count": null,
      "outputs": []
    },
    {
      "cell_type": "markdown",
      "source": [
        "# Answer 9.\n",
        "- Type casting means converting one data type into another.\n",
        "- To do math with numbers from user input (input() gives strings)\n",
        "- To format or display data\n",
        "- To control how data is used in a program\n",
        "\n"
      ],
      "metadata": {
        "id": "iS_zFGmphhii"
      }
    },
    {
      "cell_type": "markdown",
      "source": [
        "#Answer 10. Difference Between Implicit and Explicit Type Casting in Python\n",
        "- Type casting refers to the process of converting the data type of a value into another data type.\n",
        "\n",
        "#In Python, type casting is of two types:\n",
        "- Implicit Type Casting\n",
        "- Explicit Type Casting\n",
        "\n",
        "Implicit Type Casting\n",
        "#Definition:\n",
        "- Implicit type casting is done automatically by Python when it converts a smaller data type to a larger data type to avoid data loss.\n",
        "Example: When an int is added to a float, Python automatically converts the result to float.\n",
        "Key Point: The conversion is done internally by the interpreter without the programmer’s involvement.\n",
        "\n",
        "Explicit Type Casting\n",
        "\n",
        "#Definition:\n",
        "Explicit type casting is done manually by the programmer using predefined functions like int(), float(), str(), etc.\n",
        "Example: Converting a string \"10\" into an integer using int(\"10\").\n",
        "Key Point: This method requires the programmer to specify the desired data type."
      ],
      "metadata": {
        "id": "hs42elJXhzkk"
      }
    },
    {
      "cell_type": "code",
      "source": [],
      "metadata": {
        "id": "W4beY_Z5j7UB"
      },
      "execution_count": null,
      "outputs": []
    },
    {
      "cell_type": "markdown",
      "source": [
        "#Answer 11. Purpose of Conditional Statements in Python\n",
        "Conditional statements are used to make decisions in a program.\n",
        "They allow the program to choose different paths based on whether a condition is True or False.\n",
        "To control the flow of a program by running certain code only when specific conditions are met.\n",
        "#- Common Conditional Statements in Python:\n",
        "if - Runs a block of code if the condition is True\n",
        "\n",
        "elif - Checks another condition if the first if is False\n",
        "\n",
        "else - Runs if all the above conditions are False"
      ],
      "metadata": {
        "id": "bU1hScwSkLIr"
      }
    },
    {
      "cell_type": "code",
      "source": [],
      "metadata": {
        "id": "FjukftNCkpGX"
      },
      "execution_count": null,
      "outputs": []
    },
    {
      "cell_type": "markdown",
      "source": [
        "#Answer 12. The elif statement works in Python\n",
        "The elif statement stands for \"else if\" and is used when you want to check multiple conditions after an if statement.\n",
        "\n",
        "- How it works:\n",
        "\n",
        "- Python checks the if condition first.\n",
        "- If it is False, then it checks the elif condition\n",
        "- If elif is True, it runs that block.\n",
        "- You can use multiple elif statements.\n",
        "- If none are True, the else block runs (if used).\n"
      ],
      "metadata": {
        "id": "W804R8BBksSq"
      }
    },
    {
      "cell_type": "markdown",
      "source": [
        "#Answer13. Difference Between for and while Loops in Python.\n",
        "- Loops in Python are used to execute a block of code multiple times. The two main types of loops are for and while.\n",
        "\n",
        "#for Loop (Definite Loop)\n",
        "- A for loop is used when the number of iterations is known in advance.\n",
        "- It is typically used to iterate over a sequence like a list, string, tuple, or a range.\n",
        "- The loop automatically moves to the next element in the sequence after each iteration.\n",
        "- Use case: Best for situations where you know how many times the loop should run.\n",
        "#while Loop (Indefinite Loop)\n",
        "- A while loop is used when the number of iterations is not known beforehand.\n",
        "- It continues to execute the block of code as long as the given condition is True.\n",
        "- The loop may run zero or many times, depending on the condition.\n",
        "- Use case: Best for situations where the loop should run until a condition changes\n"
      ],
      "metadata": {
        "id": "co43aBoxl36v"
      }
    },
    {
      "cell_type": "code",
      "source": [],
      "metadata": {
        "id": "w6IPqtPPlfVb"
      },
      "execution_count": null,
      "outputs": []
    },
    {
      "cell_type": "markdown",
      "source": [
        "#Answer14. Scenario Where a While Loop Is More Suitable Than a for Loop.\n",
        "A **while** loop is more suitable when you don’t know in advance how many times the loop should run — you only know the condition under which it should continue.\n",
        "\n",
        "- Example Scenario :\n",
        "\n",
        "User Login Attempt\n",
        "\n",
        "Imagine you are writing a program that asks a user to enter the correct password.\n",
        "You don’t know how many times the user will get it wrong — it could be 1 time or 10.\n",
        "\n",
        "So, you want to keep asking for the password until the correct one is entered.\n",
        "\n",
        "- use while loop :\n",
        "\n",
        "Because the number of attempts is not fixed.\n",
        "\n",
        "You only stop when a condition becomes False (i.e., when the password is correct).\n",
        "\n",
        "A for loop is not ideal here, since it’s meant for a known number of repetitions."
      ],
      "metadata": {
        "id": "3axQ2jehnPRx"
      }
    },
    {
      "cell_type": "code",
      "source": [
        "print(\"Hello, World!\")\n"
      ],
      "metadata": {
        "colab": {
          "base_uri": "https://localhost:8080/"
        },
        "id": "I8x6MT38oKfN",
        "outputId": "55d7853f-b9b5-4752-e36e-20fd744f12a0"
      },
      "execution_count": 1,
      "outputs": [
        {
          "output_type": "stream",
          "name": "stdout",
          "text": [
            "Hello, World!\n"
          ]
        }
      ]
    },
    {
      "cell_type": "code",
      "source": [
        "name = \"Shivam\"\n",
        "age = 26\n",
        "\n",
        "print(\"My name is\", name)\n",
        "print(\"I am\", age, \"years old\")\n"
      ],
      "metadata": {
        "colab": {
          "base_uri": "https://localhost:8080/"
        },
        "id": "CWq9v81EolaM",
        "outputId": "be7133ed-03f9-49f6-a353-c29ffdf2b044"
      },
      "execution_count": 2,
      "outputs": [
        {
          "output_type": "stream",
          "name": "stdout",
          "text": [
            "My name is Shivam\n",
            "I am 26 years old\n"
          ]
        }
      ]
    },
    {
      "cell_type": "code",
      "source": [
        "import keyword\n",
        "\n",
        "# Get the list of keywords\n",
        "keywords = keyword.kwlist\n",
        "\n",
        "# Print all keywords\n",
        "print(\"Python Keywords:\")\n",
        "for kw in keywords:\n",
        "    print(kw)\n"
      ],
      "metadata": {
        "colab": {
          "base_uri": "https://localhost:8080/"
        },
        "id": "nYXBaKgJorZi",
        "outputId": "44097564-27b4-49ab-c3fa-41a866625b81"
      },
      "execution_count": 3,
      "outputs": [
        {
          "output_type": "stream",
          "name": "stdout",
          "text": [
            "Python Keywords:\n",
            "False\n",
            "None\n",
            "True\n",
            "and\n",
            "as\n",
            "assert\n",
            "async\n",
            "await\n",
            "break\n",
            "class\n",
            "continue\n",
            "def\n",
            "del\n",
            "elif\n",
            "else\n",
            "except\n",
            "finally\n",
            "for\n",
            "from\n",
            "global\n",
            "if\n",
            "import\n",
            "in\n",
            "is\n",
            "lambda\n",
            "nonlocal\n",
            "not\n",
            "or\n",
            "pass\n",
            "raise\n",
            "return\n",
            "try\n",
            "while\n",
            "with\n",
            "yield\n"
          ]
        }
      ]
    },
    {
      "cell_type": "code",
      "source": [
        "import keyword\n",
        "\n",
        "# Ask user to enter a word\n",
        "word = input(\"Enter a word: \")\n",
        "\n",
        "# Check if the word is a Python keyword\n",
        "if keyword.iskeyword(word):\n",
        "    print(f\"'{word}' is a Python keyword.\")\n",
        "else:\n",
        "    print(f\"'{word}' is NOT a Python keyword.\")\n"
      ],
      "metadata": {
        "id": "I-SIiM3ApMWR"
      },
      "execution_count": null,
      "outputs": []
    },
    {
      "cell_type": "code",
      "source": [
        "# Creating a list\n",
        "my_list = [10, 20, 30]\n",
        "print(\"Original List:\", my_list)\n",
        "\n",
        "# Modifying list element\n",
        "my_list[1] = 200\n",
        "print(\"Modified List:\", my_list)\n",
        "\n",
        "# Creating a tuple\n",
        "my_tuple = (10, 20, 30)\n",
        "print(\"Original Tuple:\", my_tuple)\n",
        "\n",
        "# Trying to modify tuple element\n",
        "try:\n",
        "    my_tuple[1] = 200\n",
        "except TypeError as e:\n",
        "    print(\"Error while modifying tuple:\", e)\n"
      ],
      "metadata": {
        "id": "8ZlLXFJupmrA"
      },
      "execution_count": null,
      "outputs": []
    },
    {
      "cell_type": "code",
      "source": [
        "# Function to modify both a number (immutable) and a list (mutable)\n",
        "def modify_values(num, my_list):\n",
        "    num += 10            # This will NOT change the original num\n",
        "    my_list.append(100)  # This WILL change the original list\n",
        "    print(\"Inside function - num:\", num)\n",
        "    print(\"Inside function - list:\", my_list)\n",
        "\n",
        "# Immutable variable (int)\n",
        "x = 50\n",
        "\n",
        "# Mutable variable (list)\n",
        "my_list = [1, 2, 3]\n",
        "\n",
        "# Call the function\n",
        "modify_values(x, my_list)\n",
        "\n",
        "# Print values after function call\n",
        "print(\"Outside function - x:\", x)             # x is unchanged\n",
        "print(\"Outside function - my_list:\", my_list) # my_list is changed\n"
      ],
      "metadata": {
        "id": "XXsPcAHLpwEv"
      },
      "execution_count": null,
      "outputs": []
    },
    {
      "cell_type": "code",
      "source": [
        "# Take user input\n",
        "num1 = float(input(\"Enter first number: \"))\n",
        "num2 = float(input(\"Enter second number: \"))\n",
        "\n",
        "# Perform arithmetic operations\n",
        "print(\"\\nArithmetic Operations:\")\n",
        "print(\"Addition:\", num1 + num2)\n",
        "print(\"Subtraction:\", num1 - num2)\n",
        "print(\"Multiplication:\", num1 * num2)\n",
        "\n",
        "# Handle division safely\n",
        "if num2 != 0:\n",
        "    print(\"Division:\", num1 / num2)\n",
        "    print(\"Modulus:\", num1 % num2)\n",
        "else:\n",
        "    print(\"Division and Modulus: Cannot divide by zero\")\n",
        "\n",
        "print(\"Exponentiation:\", num1 ** num2)\n"
      ],
      "metadata": {
        "id": "oA2sMeqqqBeF"
      },
      "execution_count": null,
      "outputs": []
    },
    {
      "cell_type": "code",
      "source": [
        "# Take two numbers as input\n",
        "a = int(input(\"Enter first number: \"))\n",
        "b = int(input(\"Enter second number: \"))\n",
        "\n",
        "print(\"\\nLogical Operators Demonstration:\")\n",
        "\n",
        "# Using 'and' operator\n",
        "if a > 0 and b > 0:\n",
        "    print(\"Both numbers are positive (a > 0 and b > 0)\")\n",
        "\n",
        "# Using 'or' operator\n",
        "if a > 0 or b > 0:\n",
        "    print(\"At least one number is positive (a > 0 or b > 0)\")\n",
        "\n",
        "# Using 'not' operator\n",
        "if not (a < 0 and b < 0):\n",
        "    print(\"Both numbers are not negative (not(a < 0 and b < 0))\")\n"
      ],
      "metadata": {
        "id": "X8nqJudlqgSr"
      },
      "execution_count": null,
      "outputs": []
    },
    {
      "cell_type": "code",
      "source": [
        "# Take user input as a string\n",
        "user_input = input(\"Enter a value: \")\n",
        "\n",
        "# Convert to integer\n",
        "try:\n",
        "    int_value = int(user_input)\n",
        "    print(\"Integer:\", int_value)\n",
        "except ValueError:\n",
        "    print(\"Cannot convert to Integer\")\n",
        "\n",
        "# Convert to float\n",
        "try:\n",
        "    float_value = float(user_input)\n",
        "    print(\"Float:\", float_value)\n",
        "except ValueError:\n",
        "    print(\"Cannot convert to Float\")\n",
        "\n",
        "# Convert to boolean\n",
        "bool_value = bool(user_input)\n",
        "print(\"Boolean:\", bool_value)\n"
      ],
      "metadata": {
        "id": "eOV8QoLCqvb6"
      },
      "execution_count": null,
      "outputs": []
    },
    {
      "cell_type": "code",
      "source": [
        "# List with string numbers\n",
        "str_list = [\"10\", \"20\", \"30\", \"40\"]\n",
        "\n",
        "# Convert each string element to integer\n",
        "int_list = [int(item) for item in str_list]\n",
        "print(\"Integer List:\", int_list)\n",
        "\n",
        "# Convert each string element to float\n",
        "float_list = [float(item) for item in str_list]\n",
        "print(\"Float List:\", float_list)\n",
        "\n",
        "# Convert each number back to string\n",
        "str_again = [str(item) for item in int_list]\n",
        "print(\"String List Again:\", str_again)\n"
      ],
      "metadata": {
        "id": "QyG5TWhuq_5R"
      },
      "execution_count": null,
      "outputs": []
    },
    {
      "cell_type": "code",
      "source": [
        "# Take input from the user\n",
        "num = float(input(\"Enter a number: \"))\n",
        "\n",
        "# Check if the number is positive, negative, or zero\n",
        "if num > 0:\n",
        "    print(\"The number is positive.\")\n",
        "elif num < 0:\n",
        "    print(\"The number is negative.\")\n",
        "else:\n",
        "    print(\"The number is zero.\")\n"
      ],
      "metadata": {
        "id": "3fhVU3tsrQv5"
      },
      "execution_count": null,
      "outputs": []
    },
    {
      "cell_type": "code",
      "source": [
        "# Using a for loop to print numbers 1 to 10\n",
        "for i in range(1, 11):\n",
        "    print(i)\n"
      ],
      "metadata": {
        "id": "F0bYcH-QrjRn"
      },
      "execution_count": null,
      "outputs": []
    },
    {
      "cell_type": "code",
      "source": [
        "# Initialize sum\n",
        "even_sum = 0\n",
        "\n",
        "# Loop from 1 to 50\n",
        "for i in range(1, 51):\n",
        "    if i % 2 == 0:\n",
        "        even_sum += i\n",
        "\n",
        "# Print the result\n",
        "print(\"Sum of even numbers from 1 to 50 is:\", even_sum)\n"
      ],
      "metadata": {
        "id": "tD-uezbbrtXP"
      },
      "execution_count": null,
      "outputs": []
    },
    {
      "cell_type": "code",
      "source": [
        "# Take input from the user\n",
        "text = input(\"Enter a string: \")\n",
        "\n",
        "# Initialize variables\n",
        "reversed_text = \"\"\n",
        "index = len(text) - 1\n",
        "\n",
        "# Reverse the string using while loop\n",
        "while index >= 0:\n",
        "    reversed_text += text[index]\n",
        "    index -= 1\n",
        "\n",
        "# Print the reversed string\n",
        "print(\"Reversed string:\", reversed_text)\n"
      ],
      "metadata": {
        "id": "QZP5toZTr8GX"
      },
      "execution_count": null,
      "outputs": []
    },
    {
      "cell_type": "code",
      "source": [
        "# Take input from the user\n",
        "num = int(input(\"Enter a number: \"))\n",
        "\n",
        "# Initialize variables\n",
        "factorial = 1\n",
        "i = 1\n",
        "\n",
        "# Check for valid input\n",
        "if num < 0:\n",
        "    print(\"Factorial is not defined for negative numbers.\")\n",
        "else:\n",
        "    while i <= num:\n",
        "        factorial *= i\n",
        "        i += 1\n",
        "\n",
        "    # Print the result\n",
        "    print(f\"Factorial of {num} is:\", factorial)\n"
      ],
      "metadata": {
        "id": "tlL-HonqsLHG"
      },
      "execution_count": null,
      "outputs": []
    },
    {
      "cell_type": "code",
      "source": [],
      "metadata": {
        "id": "Aa3wvLHVsWGH"
      },
      "execution_count": null,
      "outputs": []
    }
  ]
}